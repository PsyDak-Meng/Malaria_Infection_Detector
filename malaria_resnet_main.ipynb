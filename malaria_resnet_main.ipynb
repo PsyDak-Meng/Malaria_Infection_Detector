{
 "cells": [
  {
   "cell_type": "markdown",
   "id": "0d249f8a",
   "metadata": {},
   "source": [
    "# [Malaria Detection]"
   ]
  },
  {
   "cell_type": "code",
   "execution_count": 1,
   "id": "38a10cf8",
   "metadata": {},
   "outputs": [],
   "source": [
    "import pandas as pd\n",
    "import numpy as np\n",
    "import os\n",
    "import matplotlib.pyplot as plt\n",
    "import torch\n",
    "from torch import nn, optim, cuda\n",
    "from torchvision import transforms, datasets, models\n",
    "from sklearn.model_selection import train_test_split"
   ]
  },
  {
   "cell_type": "markdown",
   "id": "af666106",
   "metadata": {},
   "source": [
    "## Preprocessing"
   ]
  },
  {
   "cell_type": "code",
   "execution_count": 2,
   "id": "44f17792",
   "metadata": {},
   "outputs": [
    {
     "name": "stdout",
     "output_type": "stream",
     "text": [
      "C:\\Users\\user\\Downloads\\The_Agency Beginner Project\\malaria_classification\\cell_images\\cell_images\n"
     ]
    }
   ],
   "source": [
    "#parasite_dir=os.path.join(os.getcwd(),'malaria_classification\\\\cell_images\\\\Parasitized')\n",
    "#uninfect_dir=os.path.join(os.getcwd(),'malaria_classification\\\\cell_images\\\\Uninfected')\n",
    "dataset_dir=os.path.join(os.getcwd(),'malaria_classification\\\\cell_images\\\\cell_images')\n",
    "#print(parasite_dir)\n",
    "#print(uninfect_dir)\n",
    "print(dataset_dir)"
   ]
  },
  {
   "cell_type": "code",
   "execution_count": 3,
   "id": "a5d8a911",
   "metadata": {},
   "outputs": [],
   "source": [
    "#Data Augmentation\n",
    "def get_data_loader(data_dir,batch_size):\n",
    "    \n",
    "    #different transformaitons for train and validation sets\n",
    "    transform={'train':transforms.Compose([transforms.Resize((256,256)),\n",
    "                           transforms.CenterCrop(224),\n",
    "                           transforms.ToTensor(),\n",
    "                                      transforms.Normalize((0.485,0.486,0.406),(0.229, 0.224, 0.225))]),\n",
    "\n",
    "    'test':transforms.Compose([transforms.Resize((256,256)),\n",
    "                           transforms.CenterCrop(224),\n",
    "                                      transforms.RandomRotation([0,180]),\n",
    "                                      transforms.RandomHorizontalFlip(p=0.5),\n",
    "                           transforms.ToTensor(),\n",
    "                                      transforms.Normalize((0.485,0.486,0.406),(0.229, 0.224, 0.225))])\n",
    "    }\n",
    "    \n",
    "    #read in the images\n",
    "    trainset=datasets.ImageFolder(root=data_dir,transform=transform['train'])\n",
    "    testset=datasets.ImageFolder(root=data_dir,transform=transform['test'])\n",
    "    \n",
    "    #split 80/20\n",
    "    indices=list(range(len(trainset)))\n",
    "    np.random.shuffle(indices)\n",
    "    split=int(np.floor(len(trainset)*0.8))\n",
    "    train_idx,test_idx=indices[:split],indices[split:]\n",
    "    # define samplers for obtaining training and validation batches\n",
    "    train_sampler = torch.utils.data.sampler.SubsetRandomSampler(train_idx)\n",
    "    test_sampler = torch.utils.data.sampler.SubsetRandomSampler(test_idx)\n",
    "    \n",
    "    #load the images as dataloader obj\n",
    "    train_dataloader=torch.utils.data.DataLoader(dataset=trainset,batch_size=batch_size,shuffle=False,sampler=train_sampler)\n",
    "    test_dataloader=torch.utils.data.DataLoader(dataset=testset,batch_size=batch_size,shuffle=False,sampler=test_sampler)\n",
    "    \n",
    "    return train_dataloader,test_dataloader"
   ]
  },
  {
   "cell_type": "code",
   "execution_count": 4,
   "id": "2640f0da",
   "metadata": {},
   "outputs": [],
   "source": [
    "train_dataloader,test_dataloader=get_data_loader(dataset_dir,batch_size=1)"
   ]
  },
  {
   "cell_type": "markdown",
   "id": "16d4ac75",
   "metadata": {},
   "source": [
    "## Model Structure"
   ]
  },
  {
   "cell_type": "code",
   "execution_count": 5,
   "id": "987df539",
   "metadata": {},
   "outputs": [],
   "source": [
    "class Malaria_Resnet():\n",
    "    def __init__(self,weights):\n",
    "        self.weights=weights\n",
    "        self.model=models.resnet50(weights=self.weights)\n",
    "    \n",
    "    \n",
    "    def Config(self):\n",
    "        #freeze parameters\n",
    "        for params in self.model.parameters():\n",
    "            params.requires_grad=False\n",
    "        #change last layer to 2 classes\n",
    "        in_features = self.model.fc.in_features\n",
    "        self.model.fc =nn.Linear(in_features, 2 , bias=True)\n",
    "        print(self.model.fc)\n",
    "        \n",
    "        #unfreeze the last layer\n",
    "        for params in self.model.fc.parameters():\n",
    "            params.required_grad=True\n",
    "\n",
    "    \n",
    "    def Train(self,epoch,trainset,testset,lr=0.001):\n",
    "        self.epoch=epoch\n",
    "        self.trainset=trainset\n",
    "        criterion=nn.CrossEntropyLoss()\n",
    "        optimizer=optim.SGD(self.model.parameters(),lr=lr,momentum=0)\n",
    "        \n",
    "        for epoch in range(self.epoch):\n",
    "            self.model.train()\n",
    "            running_loss=0\n",
    "            for i, data in enumerate(self.trainset,0):\n",
    "                inputs,labels=data\n",
    "                # zero the parameter gradients\n",
    "                optimizer.zero_grad()\n",
    "                # forward + backward + optimize\n",
    "                outputs = self.model(inputs)\n",
    "                loss = criterion(outputs, labels)\n",
    "                loss.backward()\n",
    "                optimizer.step()\n",
    "\n",
    "                # print statistics\n",
    "                running_loss += loss.item()\n",
    "                if i % 2000 == 1999:    # print every 2000 mini-batches\n",
    "                    print(f'[{epoch + 1}, {i + 1:5d}] loss: {running_loss / 2000:.3f}')\n",
    "                    running_loss = 0.0\n",
    "            self.model.eval()\n",
    "            print('Accuracy:',self.Eval(testset))  \n",
    "        print('Finished Training')   \n",
    "    \n",
    "    def Eval(self,testset):\n",
    "        correct=0\n",
    "        total=0\n",
    "        self.testset=testset\n",
    "        # since we're not training, we don't need to calculate the gradients for our outputs\n",
    "        with torch.no_grad():\n",
    "            for images, labels in testset:\n",
    "                # calculate outputs by running images through the network\n",
    "                outputs = self.model(images)\n",
    "                # the class with the highest energy is what we choose as prediction\n",
    "                val,predicted = torch.max(outputs.data, 1)\n",
    "                total += labels.size(0)\n",
    "                correct += int(predicted == labels)\n",
    "\n",
    "        print(f'Accuracy of the network: {100 * correct // total} %')"
   ]
  },
  {
   "cell_type": "code",
   "execution_count": null,
   "id": "57ee7886",
   "metadata": {},
   "outputs": [
    {
     "name": "stdout",
     "output_type": "stream",
     "text": [
      "Linear(in_features=2048, out_features=2, bias=True)\n"
     ]
    }
   ],
   "source": [
    "model=Malaria_Resnet(models.ResNet50_Weights.IMAGENET1K_V2)\n",
    "model.Config()\n",
    "model.Train(100,train_dataloader,test_dataloader,lr=0.005)"
   ]
  }
 ],
 "metadata": {
  "kernelspec": {
   "display_name": "Python 3 (ipykernel)",
   "language": "python",
   "name": "python3"
  },
  "language_info": {
   "codemirror_mode": {
    "name": "ipython",
    "version": 3
   },
   "file_extension": ".py",
   "mimetype": "text/x-python",
   "name": "python",
   "nbconvert_exporter": "python",
   "pygments_lexer": "ipython3",
   "version": "3.9.7"
  }
 },
 "nbformat": 4,
 "nbformat_minor": 5
}
